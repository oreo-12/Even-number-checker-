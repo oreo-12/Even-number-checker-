{
 "cells": [
  {
   "cell_type": "code",
   "execution_count": null,
   "id": "3d6e172a",
   "metadata": {},
   "outputs": [],
   "source": [
    "def even_number(num):\n",
    "    result = num %2 == 0\n",
    "    return result\n",
    "    "
   ]
  }
 ],
 "metadata": {
  "kernelspec": {
   "display_name": "Python 3",
   "language": "python",
   "name": "python3"
  },
  "language_info": {
   "codemirror_mode": {
    "name": "ipython",
    "version": 3
   },
   "file_extension": ".py",
   "mimetype": "text/x-python",
   "name": "python",
   "nbconvert_exporter": "python",
   "pygments_lexer": "ipython3",
   "version": "3.8.8"
  }
 },
 "nbformat": 4,
 "nbformat_minor": 5
}
